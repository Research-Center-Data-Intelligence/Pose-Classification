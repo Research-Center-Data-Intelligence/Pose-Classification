{
 "cells": [
  {
   "cell_type": "code",
   "execution_count": 49,
   "metadata": {},
   "outputs": [],
   "source": [
    "import os\n",
    "import torch\n",
    "import joblib\n",
    "import numpy as np\n",
    "from torch.nn.utils.rnn import pad_sequence, pack_padded_sequence\n",
    "import torch.nn as nn\n",
    "import torch.optim as optim\n",
    "from torch.utils.data import random_split\n",
    "import matplotlib.pyplot as plt"
   ]
  },
  {
   "cell_type": "code",
   "execution_count": 50,
   "metadata": {},
   "outputs": [],
   "source": [
    "dataset_dir = \"dataset/2D/kps_mirrored\""
   ]
  },
  {
   "cell_type": "code",
   "execution_count": 51,
   "metadata": {},
   "outputs": [],
   "source": [
    "def normalize_keypoints(keypoints):\n",
    "    normalized_keypoints = []\n",
    "\n",
    "    for frame_index in range(len(keypoints)):\n",
    "        keypoints_frame = keypoints[frame_index][:, :2]\n",
    "        \n",
    "        hip_x = keypoints_frame[11, 0] \n",
    "        hip_y = keypoints_frame[11, 1]  \n",
    "\n",
    "        # normalize based on the hip\n",
    "        keypoints_frame[:, 0] = keypoints_frame[:, 0] - hip_x\n",
    "        keypoints_frame[:, 1] = keypoints_frame[:, 1] - hip_y \n",
    "\n",
    "        normalized_keypoints.append(keypoints_frame)\n",
    "\n",
    "    return np.array(normalized_keypoints)"
   ]
  },
  {
   "cell_type": "code",
   "execution_count": 52,
   "metadata": {},
   "outputs": [],
   "source": [
    "def load_dataset_and_find_max_length(dataset_dir):\n",
    "    data = []\n",
    "    labels = []\n",
    "    sequence_lengths = []\n",
    "\n",
    "    for root, dirs, files in os.walk(dataset_dir):\n",
    "        for file in files:\n",
    "            if file.endswith('.pth'): \n",
    "                video_path = os.path.join(root, file)\n",
    "                \n",
    "                label = os.path.basename(root) \n",
    "                print(f\"Processing file: {video_path}, Label: {label}\")\n",
    "\n",
    "                tracking_results = joblib.load(video_path)\n",
    "                keypoints = tracking_results[0]['keypoints']\n",
    "\n",
    "                normalized_keypoints = normalize_keypoints(keypoints)\n",
    "\n",
    "                data.append(normalized_keypoints)\n",
    "                labels.append(label)\n",
    "\n",
    "                sequence_lengths.append(len(normalized_keypoints))\n",
    "\n",
    "    return data, labels, sequence_lengths"
   ]
  },
  {
   "cell_type": "code",
   "execution_count": 53,
   "metadata": {},
   "outputs": [
    {
     "name": "stdout",
     "output_type": "stream",
     "text": [
      "Processing file: dataset/2D/kps_mirrored/LEG_RAISE/6_MIRRORED.pth, Label: LEG_RAISE\n",
      "Processing file: dataset/2D/kps_mirrored/LEG_RAISE/3_MIRRORED.pth, Label: LEG_RAISE\n",
      "Processing file: dataset/2D/kps_mirrored/LEG_RAISE/7_MIRRORED.pth, Label: LEG_RAISE\n",
      "Processing file: dataset/2D/kps_mirrored/LEG_RAISE/4_MIRRORED.pth, Label: LEG_RAISE\n",
      "Processing file: dataset/2D/kps_mirrored/LEG_RAISE/4.pth, Label: LEG_RAISE\n",
      "Processing file: dataset/2D/kps_mirrored/LEG_RAISE/1.pth, Label: LEG_RAISE\n",
      "Processing file: dataset/2D/kps_mirrored/LEG_RAISE/1_MIRRORED.pth, Label: LEG_RAISE\n",
      "Processing file: dataset/2D/kps_mirrored/LEG_RAISE/5.pth, Label: LEG_RAISE\n",
      "Processing file: dataset/2D/kps_mirrored/LEG_RAISE/8_MIRRORED.pth, Label: LEG_RAISE\n",
      "Processing file: dataset/2D/kps_mirrored/LEG_RAISE/8.pth, Label: LEG_RAISE\n",
      "Processing file: dataset/2D/kps_mirrored/LEG_RAISE/7.pth, Label: LEG_RAISE\n",
      "Processing file: dataset/2D/kps_mirrored/LEG_RAISE/5_MIRRORED.pth, Label: LEG_RAISE\n",
      "Processing file: dataset/2D/kps_mirrored/LEG_RAISE/3.pth, Label: LEG_RAISE\n",
      "Processing file: dataset/2D/kps_mirrored/LEG_RAISE/2_MIRRORED.pth, Label: LEG_RAISE\n",
      "Processing file: dataset/2D/kps_mirrored/LEG_RAISE/6.pth, Label: LEG_RAISE\n",
      "Processing file: dataset/2D/kps_mirrored/LEG_RAISE/2.pth, Label: LEG_RAISE\n",
      "Processing file: dataset/2D/kps_mirrored/CHAIR_RAISE_AND_STEP/6_MIRRORED.pth, Label: CHAIR_RAISE_AND_STEP\n",
      "Processing file: dataset/2D/kps_mirrored/CHAIR_RAISE_AND_STEP/3_MIRRORED.pth, Label: CHAIR_RAISE_AND_STEP\n",
      "Processing file: dataset/2D/kps_mirrored/CHAIR_RAISE_AND_STEP/7_MIRRORED.pth, Label: CHAIR_RAISE_AND_STEP\n",
      "Processing file: dataset/2D/kps_mirrored/CHAIR_RAISE_AND_STEP/4_MIRRORED.pth, Label: CHAIR_RAISE_AND_STEP\n",
      "Processing file: dataset/2D/kps_mirrored/CHAIR_RAISE_AND_STEP/4.pth, Label: CHAIR_RAISE_AND_STEP\n",
      "Processing file: dataset/2D/kps_mirrored/CHAIR_RAISE_AND_STEP/1.pth, Label: CHAIR_RAISE_AND_STEP\n",
      "Processing file: dataset/2D/kps_mirrored/CHAIR_RAISE_AND_STEP/1_MIRRORED.pth, Label: CHAIR_RAISE_AND_STEP\n",
      "Processing file: dataset/2D/kps_mirrored/CHAIR_RAISE_AND_STEP/5.pth, Label: CHAIR_RAISE_AND_STEP\n",
      "Processing file: dataset/2D/kps_mirrored/CHAIR_RAISE_AND_STEP/8_MIRRORED.pth, Label: CHAIR_RAISE_AND_STEP\n",
      "Processing file: dataset/2D/kps_mirrored/CHAIR_RAISE_AND_STEP/8.pth, Label: CHAIR_RAISE_AND_STEP\n",
      "Processing file: dataset/2D/kps_mirrored/CHAIR_RAISE_AND_STEP/7.pth, Label: CHAIR_RAISE_AND_STEP\n",
      "Processing file: dataset/2D/kps_mirrored/CHAIR_RAISE_AND_STEP/5_MIRRORED.pth, Label: CHAIR_RAISE_AND_STEP\n",
      "Processing file: dataset/2D/kps_mirrored/CHAIR_RAISE_AND_STEP/3.pth, Label: CHAIR_RAISE_AND_STEP\n",
      "Processing file: dataset/2D/kps_mirrored/CHAIR_RAISE_AND_STEP/2_MIRRORED.pth, Label: CHAIR_RAISE_AND_STEP\n",
      "Processing file: dataset/2D/kps_mirrored/CHAIR_RAISE_AND_STEP/6.pth, Label: CHAIR_RAISE_AND_STEP\n",
      "Processing file: dataset/2D/kps_mirrored/CHAIR_RAISE_AND_STEP/2.pth, Label: CHAIR_RAISE_AND_STEP\n",
      "Processing file: dataset/2D/kps_mirrored/SUPINE_TO_PRONE/6_MIRRORED.pth, Label: SUPINE_TO_PRONE\n",
      "Processing file: dataset/2D/kps_mirrored/SUPINE_TO_PRONE/3_MIRRORED.pth, Label: SUPINE_TO_PRONE\n",
      "Processing file: dataset/2D/kps_mirrored/SUPINE_TO_PRONE/7_MIRRORED.pth, Label: SUPINE_TO_PRONE\n",
      "Processing file: dataset/2D/kps_mirrored/SUPINE_TO_PRONE/4_MIRRORED.pth, Label: SUPINE_TO_PRONE\n",
      "Processing file: dataset/2D/kps_mirrored/SUPINE_TO_PRONE/4.pth, Label: SUPINE_TO_PRONE\n",
      "Processing file: dataset/2D/kps_mirrored/SUPINE_TO_PRONE/1.pth, Label: SUPINE_TO_PRONE\n",
      "Processing file: dataset/2D/kps_mirrored/SUPINE_TO_PRONE/1_MIRRORED.pth, Label: SUPINE_TO_PRONE\n",
      "Processing file: dataset/2D/kps_mirrored/SUPINE_TO_PRONE/5.pth, Label: SUPINE_TO_PRONE\n",
      "Processing file: dataset/2D/kps_mirrored/SUPINE_TO_PRONE/8_MIRRORED.pth, Label: SUPINE_TO_PRONE\n",
      "Processing file: dataset/2D/kps_mirrored/SUPINE_TO_PRONE/8.pth, Label: SUPINE_TO_PRONE\n",
      "Processing file: dataset/2D/kps_mirrored/SUPINE_TO_PRONE/7.pth, Label: SUPINE_TO_PRONE\n",
      "Processing file: dataset/2D/kps_mirrored/SUPINE_TO_PRONE/5_MIRRORED.pth, Label: SUPINE_TO_PRONE\n",
      "Processing file: dataset/2D/kps_mirrored/SUPINE_TO_PRONE/3.pth, Label: SUPINE_TO_PRONE\n",
      "Processing file: dataset/2D/kps_mirrored/SUPINE_TO_PRONE/2_MIRRORED.pth, Label: SUPINE_TO_PRONE\n",
      "Processing file: dataset/2D/kps_mirrored/SUPINE_TO_PRONE/6.pth, Label: SUPINE_TO_PRONE\n",
      "Processing file: dataset/2D/kps_mirrored/SUPINE_TO_PRONE/2.pth, Label: SUPINE_TO_PRONE\n",
      "Processing file: dataset/2D/kps_mirrored/SIT_ALL_FOURS_RISE/6_MIRRORED.pth, Label: SIT_ALL_FOURS_RISE\n",
      "Processing file: dataset/2D/kps_mirrored/SIT_ALL_FOURS_RISE/3_MIRRORED.pth, Label: SIT_ALL_FOURS_RISE\n",
      "Processing file: dataset/2D/kps_mirrored/SIT_ALL_FOURS_RISE/7_MIRRORED.pth, Label: SIT_ALL_FOURS_RISE\n",
      "Processing file: dataset/2D/kps_mirrored/SIT_ALL_FOURS_RISE/4_MIRRORED.pth, Label: SIT_ALL_FOURS_RISE\n",
      "Processing file: dataset/2D/kps_mirrored/SIT_ALL_FOURS_RISE/4.pth, Label: SIT_ALL_FOURS_RISE\n",
      "Processing file: dataset/2D/kps_mirrored/SIT_ALL_FOURS_RISE/1.pth, Label: SIT_ALL_FOURS_RISE\n",
      "Processing file: dataset/2D/kps_mirrored/SIT_ALL_FOURS_RISE/1_MIRRORED.pth, Label: SIT_ALL_FOURS_RISE\n",
      "Processing file: dataset/2D/kps_mirrored/SIT_ALL_FOURS_RISE/5.pth, Label: SIT_ALL_FOURS_RISE\n",
      "Processing file: dataset/2D/kps_mirrored/SIT_ALL_FOURS_RISE/8_MIRRORED.pth, Label: SIT_ALL_FOURS_RISE\n",
      "Processing file: dataset/2D/kps_mirrored/SIT_ALL_FOURS_RISE/8.pth, Label: SIT_ALL_FOURS_RISE\n",
      "Processing file: dataset/2D/kps_mirrored/SIT_ALL_FOURS_RISE/7.pth, Label: SIT_ALL_FOURS_RISE\n",
      "Processing file: dataset/2D/kps_mirrored/SIT_ALL_FOURS_RISE/5_MIRRORED.pth, Label: SIT_ALL_FOURS_RISE\n",
      "Processing file: dataset/2D/kps_mirrored/SIT_ALL_FOURS_RISE/3.pth, Label: SIT_ALL_FOURS_RISE\n",
      "Processing file: dataset/2D/kps_mirrored/SIT_ALL_FOURS_RISE/2_MIRRORED.pth, Label: SIT_ALL_FOURS_RISE\n",
      "Processing file: dataset/2D/kps_mirrored/SIT_ALL_FOURS_RISE/6.pth, Label: SIT_ALL_FOURS_RISE\n",
      "Processing file: dataset/2D/kps_mirrored/SIT_ALL_FOURS_RISE/2.pth, Label: SIT_ALL_FOURS_RISE\n",
      "Processing file: dataset/2D/kps_mirrored/SIT_UP/6_MIRRORED.pth, Label: SIT_UP\n",
      "Processing file: dataset/2D/kps_mirrored/SIT_UP/3_MIRRORED.pth, Label: SIT_UP\n",
      "Processing file: dataset/2D/kps_mirrored/SIT_UP/7_MIRRORED.pth, Label: SIT_UP\n",
      "Processing file: dataset/2D/kps_mirrored/SIT_UP/4_MIRRORED.pth, Label: SIT_UP\n",
      "Processing file: dataset/2D/kps_mirrored/SIT_UP/4.pth, Label: SIT_UP\n",
      "Processing file: dataset/2D/kps_mirrored/SIT_UP/1.pth, Label: SIT_UP\n",
      "Processing file: dataset/2D/kps_mirrored/SIT_UP/1_MIRRORED.pth, Label: SIT_UP\n",
      "Processing file: dataset/2D/kps_mirrored/SIT_UP/5.pth, Label: SIT_UP\n",
      "Processing file: dataset/2D/kps_mirrored/SIT_UP/8_MIRRORED.pth, Label: SIT_UP\n",
      "Processing file: dataset/2D/kps_mirrored/SIT_UP/8.pth, Label: SIT_UP\n",
      "Processing file: dataset/2D/kps_mirrored/SIT_UP/7.pth, Label: SIT_UP\n",
      "Processing file: dataset/2D/kps_mirrored/SIT_UP/5_MIRRORED.pth, Label: SIT_UP\n",
      "Processing file: dataset/2D/kps_mirrored/SIT_UP/3.pth, Label: SIT_UP\n",
      "Processing file: dataset/2D/kps_mirrored/SIT_UP/2_MIRRORED.pth, Label: SIT_UP\n",
      "Processing file: dataset/2D/kps_mirrored/SIT_UP/6.pth, Label: SIT_UP\n",
      "Processing file: dataset/2D/kps_mirrored/SIT_UP/2.pth, Label: SIT_UP\n",
      "Processing file: dataset/2D/kps_mirrored/HEAD_LIFT/6_MIRRORED.pth, Label: HEAD_LIFT\n",
      "Processing file: dataset/2D/kps_mirrored/HEAD_LIFT/3_MIRRORED.pth, Label: HEAD_LIFT\n",
      "Processing file: dataset/2D/kps_mirrored/HEAD_LIFT/7_MIRRORED.pth, Label: HEAD_LIFT\n",
      "Processing file: dataset/2D/kps_mirrored/HEAD_LIFT/4_MIRRORED.pth, Label: HEAD_LIFT\n",
      "Processing file: dataset/2D/kps_mirrored/HEAD_LIFT/4.pth, Label: HEAD_LIFT\n",
      "Processing file: dataset/2D/kps_mirrored/HEAD_LIFT/1.pth, Label: HEAD_LIFT\n",
      "Processing file: dataset/2D/kps_mirrored/HEAD_LIFT/1_MIRRORED.pth, Label: HEAD_LIFT\n",
      "Processing file: dataset/2D/kps_mirrored/HEAD_LIFT/5.pth, Label: HEAD_LIFT\n",
      "Processing file: dataset/2D/kps_mirrored/HEAD_LIFT/8_MIRRORED.pth, Label: HEAD_LIFT\n",
      "Processing file: dataset/2D/kps_mirrored/HEAD_LIFT/8.pth, Label: HEAD_LIFT\n",
      "Processing file: dataset/2D/kps_mirrored/HEAD_LIFT/7.pth, Label: HEAD_LIFT\n",
      "Processing file: dataset/2D/kps_mirrored/HEAD_LIFT/5_MIRRORED.pth, Label: HEAD_LIFT\n",
      "Processing file: dataset/2D/kps_mirrored/HEAD_LIFT/3.pth, Label: HEAD_LIFT\n",
      "Processing file: dataset/2D/kps_mirrored/HEAD_LIFT/2_MIRRORED.pth, Label: HEAD_LIFT\n",
      "Processing file: dataset/2D/kps_mirrored/HEAD_LIFT/6.pth, Label: HEAD_LIFT\n",
      "Processing file: dataset/2D/kps_mirrored/HEAD_LIFT/2.pth, Label: HEAD_LIFT\n",
      "Processing file: dataset/2D/kps_mirrored/PICK_UP/6_MIRRORED.pth, Label: PICK_UP\n",
      "Processing file: dataset/2D/kps_mirrored/PICK_UP/3_MIRRORED.pth, Label: PICK_UP\n",
      "Processing file: dataset/2D/kps_mirrored/PICK_UP/7_MIRRORED.pth, Label: PICK_UP\n",
      "Processing file: dataset/2D/kps_mirrored/PICK_UP/4_MIRRORED.pth, Label: PICK_UP\n",
      "Processing file: dataset/2D/kps_mirrored/PICK_UP/4.pth, Label: PICK_UP\n",
      "Processing file: dataset/2D/kps_mirrored/PICK_UP/1.pth, Label: PICK_UP\n",
      "Processing file: dataset/2D/kps_mirrored/PICK_UP/1_MIRRORED.pth, Label: PICK_UP\n",
      "Processing file: dataset/2D/kps_mirrored/PICK_UP/5.pth, Label: PICK_UP\n",
      "Processing file: dataset/2D/kps_mirrored/PICK_UP/8_MIRRORED.pth, Label: PICK_UP\n",
      "Processing file: dataset/2D/kps_mirrored/PICK_UP/8.pth, Label: PICK_UP\n",
      "Processing file: dataset/2D/kps_mirrored/PICK_UP/7.pth, Label: PICK_UP\n",
      "Processing file: dataset/2D/kps_mirrored/PICK_UP/5_MIRRORED.pth, Label: PICK_UP\n",
      "Processing file: dataset/2D/kps_mirrored/PICK_UP/3.pth, Label: PICK_UP\n",
      "Processing file: dataset/2D/kps_mirrored/PICK_UP/2_MIRRORED.pth, Label: PICK_UP\n",
      "Processing file: dataset/2D/kps_mirrored/PICK_UP/6.pth, Label: PICK_UP\n",
      "Processing file: dataset/2D/kps_mirrored/PICK_UP/2.pth, Label: PICK_UP\n",
      "Processing file: dataset/2D/kps_mirrored/ARM_RAISE/6_MIRRORED.pth, Label: ARM_RAISE\n",
      "Processing file: dataset/2D/kps_mirrored/ARM_RAISE/3_MIRRORED.pth, Label: ARM_RAISE\n",
      "Processing file: dataset/2D/kps_mirrored/ARM_RAISE/7_MIRRORED.pth, Label: ARM_RAISE\n",
      "Processing file: dataset/2D/kps_mirrored/ARM_RAISE/4_MIRRORED.pth, Label: ARM_RAISE\n",
      "Processing file: dataset/2D/kps_mirrored/ARM_RAISE/4.pth, Label: ARM_RAISE\n",
      "Processing file: dataset/2D/kps_mirrored/ARM_RAISE/1.pth, Label: ARM_RAISE\n",
      "Processing file: dataset/2D/kps_mirrored/ARM_RAISE/1_MIRRORED.pth, Label: ARM_RAISE\n",
      "Processing file: dataset/2D/kps_mirrored/ARM_RAISE/5.pth, Label: ARM_RAISE\n",
      "Processing file: dataset/2D/kps_mirrored/ARM_RAISE/8_MIRRORED.pth, Label: ARM_RAISE\n",
      "Processing file: dataset/2D/kps_mirrored/ARM_RAISE/8.pth, Label: ARM_RAISE\n",
      "Processing file: dataset/2D/kps_mirrored/ARM_RAISE/7.pth, Label: ARM_RAISE\n",
      "Processing file: dataset/2D/kps_mirrored/ARM_RAISE/5_MIRRORED.pth, Label: ARM_RAISE\n",
      "Processing file: dataset/2D/kps_mirrored/ARM_RAISE/3.pth, Label: ARM_RAISE\n",
      "Processing file: dataset/2D/kps_mirrored/ARM_RAISE/2_MIRRORED.pth, Label: ARM_RAISE\n",
      "Processing file: dataset/2D/kps_mirrored/ARM_RAISE/6.pth, Label: ARM_RAISE\n",
      "Processing file: dataset/2D/kps_mirrored/ARM_RAISE/2.pth, Label: ARM_RAISE\n"
     ]
    }
   ],
   "source": [
    "data, labels, sequence_lengths = load_dataset_and_find_max_length(dataset_dir)"
   ]
  },
  {
   "cell_type": "code",
   "execution_count": 54,
   "metadata": {},
   "outputs": [
    {
     "name": "stdout",
     "output_type": "stream",
     "text": [
      "Label mapping: {'ARM_RAISE': 0, 'CHAIR_RAISE_AND_STEP': 1, 'HEAD_LIFT': 2, 'LEG_RAISE': 3, 'PICK_UP': 4, 'SIT_ALL_FOURS_RISE': 5, 'SIT_UP': 6, 'SUPINE_TO_PRONE': 7}\n",
      "Converted labels: [3, 3, 3, 3, 3, 3, 3, 3, 3, 3, 3, 3, 3, 3, 3, 3, 1, 1, 1, 1, 1, 1, 1, 1, 1, 1, 1, 1, 1, 1, 1, 1, 7, 7, 7, 7, 7, 7, 7, 7, 7, 7, 7, 7, 7, 7, 7, 7, 5, 5, 5, 5, 5, 5, 5, 5, 5, 5, 5, 5, 5, 5, 5, 5, 6, 6, 6, 6, 6, 6, 6, 6, 6, 6, 6, 6, 6, 6, 6, 6, 2, 2, 2, 2, 2, 2, 2, 2, 2, 2, 2, 2, 2, 2, 2, 2, 4, 4, 4, 4, 4, 4, 4, 4, 4, 4, 4, 4, 4, 4, 4, 4, 0, 0, 0, 0, 0, 0, 0, 0, 0, 0, 0, 0, 0, 0, 0, 0]\n"
     ]
    }
   ],
   "source": [
    "unique_labels = sorted(set(labels))\n",
    "label_map = {label: idx for idx, label in enumerate(unique_labels)}\n",
    "labels_int = [label_map[label] for label in labels]\n",
    "\n",
    "print(\"Label mapping:\", label_map)\n",
    "print(\"Converted labels:\", labels_int)"
   ]
  },
  {
   "cell_type": "code",
   "execution_count": 55,
   "metadata": {},
   "outputs": [],
   "source": [
    "keypoints_list = [torch.tensor(kp, dtype=torch.float32) for kp in data]\n",
    "labels_tensor = torch.tensor(labels_int, dtype=torch.int64)\n",
    "sequence_lengths_tensor = torch.tensor(sequence_lengths, dtype=torch.long)"
   ]
  },
  {
   "cell_type": "code",
   "execution_count": 56,
   "metadata": {},
   "outputs": [],
   "source": [
    "class KeypointDataset(torch.utils.data.Dataset):\n",
    "    def __init__(self, keypoints_list, labels, sequence_lengths):\n",
    "        self.keypoints_list = keypoints_list\n",
    "        self.labels = labels\n",
    "        self.sequence_lengths = sequence_lengths\n",
    "\n",
    "    def __len__(self):\n",
    "        return len(self.keypoints_list)\n",
    "\n",
    "    def __getitem__(self, idx):\n",
    "        return self.keypoints_list[idx], self.labels[idx], self.sequence_lengths[idx]\n",
    "\n",
    "full_dataset = KeypointDataset(keypoints_list, labels_tensor, sequence_lengths_tensor)"
   ]
  },
  {
   "cell_type": "code",
   "execution_count": 57,
   "metadata": {},
   "outputs": [
    {
     "name": "stdout",
     "output_type": "stream",
     "text": [
      "Total samples: 128\n"
     ]
    }
   ],
   "source": [
    "num_samples = len(full_dataset)\n",
    "train_size = int(0.8 * num_samples)\n",
    "val_size = num_samples - train_size\n",
    "train_dataset, val_dataset = random_split(full_dataset, [train_size, val_size])\n",
    "print(f\"Total samples: {num_samples}\")"
   ]
  },
  {
   "cell_type": "code",
   "execution_count": 58,
   "metadata": {},
   "outputs": [],
   "source": [
    "def collate_fn(batch):\n",
    "    keypoints, labels, seq_lengths = zip(*batch)\n",
    "    keypoints = [kp.view(len(kp), -1) for kp in keypoints]  # Flatten last dimension\n",
    "    keypoints_padded = pad_sequence(keypoints, batch_first=True)\n",
    "    labels = torch.tensor(labels, dtype=torch.int64)\n",
    "    seq_lengths = torch.tensor(seq_lengths, dtype=torch.long)\n",
    "    return keypoints_padded, labels, seq_lengths"
   ]
  },
  {
   "cell_type": "code",
   "execution_count": 59,
   "metadata": {},
   "outputs": [],
   "source": [
    "train_loader = torch.utils.data.DataLoader(train_dataset, batch_size=16, shuffle=True, collate_fn=collate_fn)\n",
    "val_loader = torch.utils.data.DataLoader(val_dataset, batch_size=16, shuffle=False, collate_fn=collate_fn)"
   ]
  },
  {
   "cell_type": "code",
   "execution_count": 60,
   "metadata": {},
   "outputs": [],
   "source": [
    "class LSTMModel(nn.Module):\n",
    "    def __init__(self, input_size, hidden_size, num_classes):\n",
    "        super(LSTMModel, self).__init__()\n",
    "        self.lstm = nn.LSTM(input_size, hidden_size, batch_first=True)\n",
    "        self.fc = nn.Linear(hidden_size, num_classes)\n",
    "\n",
    "    def forward(self, packed_seq):\n",
    "        packed_output, (hn, cn) = self.lstm(packed_seq)\n",
    "        out = self.fc(hn[-1])\n",
    "        return out"
   ]
  },
  {
   "cell_type": "code",
   "execution_count": 61,
   "metadata": {},
   "outputs": [],
   "source": [
    "input_size = 34  # 17 * 2 (X, Y)\n",
    "hidden_size = 512\n",
    "num_classes = len(unique_labels)\n",
    "model = LSTMModel(input_size, hidden_size, num_classes)"
   ]
  },
  {
   "cell_type": "code",
   "execution_count": 62,
   "metadata": {},
   "outputs": [],
   "source": [
    "device = torch.device(\"cuda\" if torch.cuda.is_available() else \"cpu\")\n",
    "model.to(device)\n",
    "criterion = nn.CrossEntropyLoss()\n",
    "optimizer = optim.Adam(model.parameters(), lr=0.001)"
   ]
  },
  {
   "cell_type": "code",
   "execution_count": 63,
   "metadata": {},
   "outputs": [],
   "source": [
    "def train_model(model, train_loader, val_loader, criterion, optimizer, num_epochs=10):\n",
    "    train_losses = []\n",
    "    val_losses = []\n",
    "\n",
    "    for epoch in range(num_epochs):\n",
    "        model.train()\n",
    "        total_loss = 0\n",
    "        for batch_keypoints, batch_labels, batch_seq_lengths in train_loader:\n",
    "            batch_keypoints = batch_keypoints.to(device)\n",
    "            batch_labels = batch_labels.to(device)\n",
    "            batch_seq_lengths = batch_seq_lengths.to(device)\n",
    "\n",
    "            # Sort\n",
    "            batch_seq_lengths, perm_idx = batch_seq_lengths.sort(0, descending=True)\n",
    "            batch_keypoints = batch_keypoints[perm_idx]\n",
    "            batch_labels = batch_labels[perm_idx]\n",
    "\n",
    "            # Pack\n",
    "            packed_input = pack_padded_sequence(batch_keypoints, batch_seq_lengths.cpu(), batch_first=True)\n",
    "            outputs = model(packed_input)\n",
    "\n",
    "            loss = criterion(outputs, batch_labels)\n",
    "            optimizer.zero_grad()\n",
    "            loss.backward()\n",
    "            optimizer.step()\n",
    "            total_loss += loss.item()\n",
    "\n",
    "        train_losses.append(total_loss / len(train_loader))\n",
    "\n",
    "        # Validation\n",
    "        model.eval()\n",
    "        val_loss = 0\n",
    "        correct = 0\n",
    "        total = 0\n",
    "        with torch.no_grad():\n",
    "            for batch_keypoints, batch_labels, batch_seq_lengths in val_loader:\n",
    "                batch_keypoints = batch_keypoints.to(device)\n",
    "                batch_labels = batch_labels.to(device)\n",
    "                batch_seq_lengths = batch_seq_lengths.to(device)\n",
    "\n",
    "                # Sort\n",
    "                batch_seq_lengths, perm_idx = batch_seq_lengths.sort(0, descending=True)\n",
    "                batch_keypoints = batch_keypoints[perm_idx]\n",
    "                batch_labels = batch_labels[perm_idx]\n",
    "\n",
    "                # Pack\n",
    "                packed_input = pack_padded_sequence(batch_keypoints, batch_seq_lengths.cpu(), batch_first=True)\n",
    "                outputs = model(packed_input)\n",
    "\n",
    "                val_loss += criterion(outputs, batch_labels).item()\n",
    "\n",
    "                # Accuracy\n",
    "                _, predicted = torch.max(outputs.data, 1)\n",
    "                total += batch_labels.size(0)\n",
    "                correct += (predicted == batch_labels).sum().item()\n",
    "\n",
    "        val_losses.append(val_loss / len(val_loader))\n",
    "\n",
    "        print(f'Epoch [{epoch + 1}/{num_epochs}], Loss: {total_loss / len(train_loader):.4f}, '\n",
    "              f'Val Loss: {val_loss / len(val_loader):.4f}, Accuracy: {100 * correct / total:.2f}%')\n",
    "\n",
    "    plt.figure(figsize=(10, 5))\n",
    "    plt.plot(range(1, num_epochs + 1), train_losses, label='Training Loss')\n",
    "    plt.plot(range(1, num_epochs + 1), val_losses, label='Validation Loss')\n",
    "    plt.xlabel('Epochs')\n",
    "    plt.ylabel('Loss')\n",
    "    plt.title('Training and Validation Loss')\n",
    "    plt.legend()\n",
    "    plt.show()"
   ]
  },
  {
   "cell_type": "code",
   "execution_count": 64,
   "metadata": {},
   "outputs": [
    {
     "name": "stdout",
     "output_type": "stream",
     "text": [
      "Epoch [1/20], Loss: 1.8207, Val Loss: 1.5699, Accuracy: 46.15%\n",
      "Epoch [2/20], Loss: 1.3411, Val Loss: 1.3295, Accuracy: 69.23%\n",
      "Epoch [3/20], Loss: 1.0952, Val Loss: 1.2107, Accuracy: 69.23%\n",
      "Epoch [4/20], Loss: 0.9174, Val Loss: 1.0937, Accuracy: 73.08%\n",
      "Epoch [5/20], Loss: 0.8148, Val Loss: 1.0242, Accuracy: 69.23%\n",
      "Epoch [6/20], Loss: 0.6999, Val Loss: 0.8631, Accuracy: 80.77%\n",
      "Epoch [7/20], Loss: 0.6038, Val Loss: 0.7420, Accuracy: 88.46%\n",
      "Epoch [8/20], Loss: 0.5089, Val Loss: 0.7012, Accuracy: 92.31%\n",
      "Epoch [9/20], Loss: 0.4745, Val Loss: 0.6468, Accuracy: 92.31%\n",
      "Epoch [10/20], Loss: 0.4080, Val Loss: 0.5935, Accuracy: 92.31%\n",
      "Epoch [11/20], Loss: 0.3704, Val Loss: 0.5390, Accuracy: 92.31%\n",
      "Epoch [12/20], Loss: 0.3450, Val Loss: 0.4944, Accuracy: 96.15%\n",
      "Epoch [13/20], Loss: 0.3102, Val Loss: 0.4785, Accuracy: 100.00%\n",
      "Epoch [14/20], Loss: 0.2648, Val Loss: 0.4466, Accuracy: 96.15%\n",
      "Epoch [15/20], Loss: 0.2443, Val Loss: 0.4401, Accuracy: 100.00%\n",
      "Epoch [16/20], Loss: 0.2356, Val Loss: 0.4213, Accuracy: 96.15%\n",
      "Epoch [17/20], Loss: 0.2153, Val Loss: 0.4028, Accuracy: 100.00%\n",
      "Epoch [18/20], Loss: 0.1865, Val Loss: 0.3908, Accuracy: 100.00%\n",
      "Epoch [19/20], Loss: 0.1765, Val Loss: 0.3673, Accuracy: 96.15%\n",
      "Epoch [20/20], Loss: 0.1612, Val Loss: 0.3271, Accuracy: 100.00%\n"
     ]
    },
    {
     "data": {
      "image/png": "[encoded data removed]",
      "text/plain": [
       "<Figure size 1000x500 with 1 Axes>"
      ]
     },
     "metadata": {},
     "output_type": "display_data"
    }
   ],
   "source": [
    "#train_model(model, train_loader, val_loader, criterion, optimizer, num_epochs=20)"
   ]
  },
  {
   "cell_type": "code",
   "execution_count": 78,
   "metadata": {},
   "outputs": [
    {
     "name": "stdout",
     "output_type": "stream",
     "text": [
      "Prediction: SUPINE_TO_PRONE\n"
     ]
    }
   ],
   "source": [
    "def predict(file_path):\n",
    "    keypoints = joblib.load(file_path)[0]['keypoints']\n",
    "    normalized_keypoints = normalize_keypoints(keypoints)\n",
    "\n",
    "    keypoints_tensor = [torch.tensor(normalized_keypoints, dtype=torch.float32)]\n",
    "    keypoints_tensor = [kp.view(len(kp), -1) for kp in keypoints_tensor]\n",
    "    sequence_length = torch.tensor([len(keypoints_tensor[0])], dtype=torch.long)\n",
    "    keypoints_padded = pad_sequence(keypoints_tensor, batch_first=True)\n",
    "\n",
    "    test_model = LSTMModel(input_size, hidden_size, num_classes)\n",
    "    test_model.load_state_dict(torch.load('weights/2D/512M100_Model.pth', weights_only=True))\n",
    "    test_model.eval()\n",
    "\n",
    "    device = torch.device('cuda' if torch.cuda.is_available() else 'cpu')\n",
    "    test_model.to(device)\n",
    "    keypoints_padded = keypoints_padded.to(device)\n",
    "    sequence_length = sequence_length.to(device)\n",
    "\n",
    "    sequence_length, perm_idx = sequence_length.sort(0, descending=True)\n",
    "    keypoints_padded = keypoints_padded[perm_idx]\n",
    "\n",
    "    packed_input = pack_padded_sequence(keypoints_padded, sequence_length.cpu(), batch_first=True)\n",
    "\n",
    "    with torch.no_grad():\n",
    "        output = test_model(packed_input)\n",
    "        _, predicted_class = torch.max(output.data, 1)\n",
    "    index_to_label = {v: k for k, v in label_map.items()}\n",
    "    return index_to_label[predicted_class.item()]\n",
    "\n",
    "\n",
    "FILE_TO_PREDICT = \"dataset/2D/kps_unseen/STP.pth\"\n",
    "print(f\"Prediction: {predict(FILE_TO_PREDICT)}\")"
   ]
  }
 ],
 "metadata": {
  "kernelspec": {
   "display_name": ".venv",
   "language": "python",
   "name": "python3"
  },
  "language_info": {
   "codemirror_mode": {
    "name": "ipython",
    "version": 3
   },
   "file_extension": ".py",
   "mimetype": "text/x-python",
   "name": "python",
   "nbconvert_exporter": "python",
   "pygments_lexer": "ipython3",
   "version": "3.12.3"
  }
 },
 "nbformat": 4,
 "nbformat_minor": 2
}
